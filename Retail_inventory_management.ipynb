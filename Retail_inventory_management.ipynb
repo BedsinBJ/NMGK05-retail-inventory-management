{
  "nbformat": 4,
  "nbformat_minor": 0,
  "metadata": {
    "colab": {
      "provenance": [],
      "authorship_tag": "ABX9TyPtR3O+R/nb4xIySzhGN+60",
      "include_colab_link": true
    },
    "kernelspec": {
      "name": "python3",
      "display_name": "Python 3"
    },
    "language_info": {
      "name": "python"
    }
  },
  "cells": [
    {
      "cell_type": "markdown",
      "metadata": {
        "id": "view-in-github",
        "colab_type": "text"
      },
      "source": [
        "<a href=\"https://colab.research.google.com/github/BedsinBJ/NMGK05-retail-inventory-management/blob/main/Retail_inventory_management.ipynb\" target=\"_parent\"><img src=\"https://colab.research.google.com/assets/colab-badge.svg\" alt=\"Open In Colab\"/></a>"
      ]
    },
    {
      "cell_type": "code",
      "execution_count": null,
      "metadata": {
        "id": "_0iXnZRZwQJQ"
      },
      "outputs": [],
      "source": [
        "import cv2\n",
        "import numpy as np\n",
        "from google.colab.patches import cv2_imshow\n",
        "\n",
        "# --- Configuration ---\n",
        "IMAGE_PATH = 'shop1.jpg'  # Make sure this image is uploaded\n",
        "MIN_OBJECT_AREA = 500        # Minimum contour area to count as a product\n",
        "\n",
        "# Shelf layout configuration\n",
        "NUM_ROWS = 3\n",
        "NUM_COLS = 5\n",
        "CELL_WIDTH = 60\n",
        "CELL_HEIGHT = 100\n",
        "START_X = 50\n",
        "START_Y = 80\n",
        "ROW_SPACING = 130   # vertical distance between rows\n",
        "COL_SPACING = 100   # horizontal distance between columns\n",
        "\n",
        "# --- Helper Function with bounds checking ---\n",
        "def is_position_occupied(image, x, y, w, h):\n",
        "    h_img, w_img = image.shape[:2]\n",
        "\n",
        "    # Check if ROI is within image bounds\n",
        "    if x < 0 or y < 0 or x + w > w_img or y + h > h_img:\n",
        "        return False  # Treat as missing if out of bounds\n",
        "\n",
        "    roi = image[y:y+h, x:x+w]\n",
        "    gray = cv2.cvtColor(roi, cv2.COLOR_BGR2GRAY)\n",
        "    blurred = cv2.GaussianBlur(gray, (3, 3), 0)\n",
        "    _, thresh = cv2.threshold(blurred, 200, 255, cv2.THRESH_BINARY_INV)\n",
        "    contours, _ = cv2.findContours(thresh, cv2.RETR_EXTERNAL, cv2.CHAIN_APPROX_SIMPLE)\n",
        "\n",
        "    for cnt in contours:\n",
        "        if cv2.contourArea(cnt) > MIN_OBJECT_AREA:\n",
        "            return True  # Product is present\n",
        "    return False  # Empty slot\n",
        "\n",
        "# --- Main Execution ---\n",
        "if __name__ == \"__main__\":\n",
        "    image = cv2.imread(IMAGE_PATH)\n",
        "    if image is None:\n",
        "        print(f\"❌ Error: Could not open or find the image at {IMAGE_PATH}\")\n",
        "        exit()\n",
        "\n",
        "    annotated = image.copy()\n",
        "\n",
        "    for row in range(NUM_ROWS):\n",
        "        missing_count = 0\n",
        "        y = START_Y + row * ROW_SPACING\n",
        "        print(f\"\\n📦 Row {row + 1} analysis:\")\n",
        "\n",
        "        for col in range(NUM_COLS):\n",
        "            x = START_X + col * COL_SPACING\n",
        "            if not is_position_occupied(image, x, y, CELL_WIDTH, CELL_HEIGHT):\n",
        "                # Draw red box for missing\n",
        "                missing_count += 1\n",
        "                cv2.rectangle(annotated, (x, y), (x + CELL_WIDTH, y + CELL_HEIGHT), (0, 0, 255), 2)\n",
        "                cv2.putText(annotated, \"Missing\", (x, y - 5), cv2.FONT_HERSHEY_SIMPLEX, 0.5, (0, 0, 255), 1)\n",
        "            else:\n",
        "                # Draw green box for detected item\n",
        "                cv2.rectangle(annotated, (x, y), (x + CELL_WIDTH, y + CELL_HEIGHT), (0, 255, 0), 2)\n",
        "\n",
        "        print(f\"🧮 Missing items in Row {row + 1}: {missing_count} / {NUM_COLS}\")\n",
        "\n",
        "    # Display the annotated result\n",
        "    cv2_imshow(annotated)\n"
      ]
    }
  ]
}